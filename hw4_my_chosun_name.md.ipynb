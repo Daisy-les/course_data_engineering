{
 "cells": [
  {
   "cell_type": "code",
   "execution_count": 1,
   "id": "5764bb13-0a57-40fe-8bcd-46c538087b86",
   "metadata": {},
   "outputs": [],
   "source": [
    "def get_my_chosun_name(family_name, month, day) :\n",
    "    m =['쌍', '쇠', '복', '돌', '팽', '육', '쌍', '개', '칠', '갑', '삼', '방']\n",
    "    d = ['봉', '구', '욕', '포', '똥', '삼', '식', '석', '놈', '님', '년', '돌', '단', '득', '방', '질', '장', '걸', '래', '룡', '동', '순', '자', '박', '창', '언', '것', '포', '만', '단', '국']\n",
    "    \n",
    "    return family_name + m[month - 1] + day[day-1]\n",
    "    "
   ]
  },
  {
   "cell_type": "code",
   "execution_count": 2,
   "id": "6b27d6b0-10c6-4c31-9e1f-f3ca829dde70",
   "metadata": {},
   "outputs": [
    {
     "ename": "TypeError",
     "evalue": "unsupported operand type(s) for -: 'list' and 'int'",
     "output_type": "error",
     "traceback": [
      "\u001b[1;31m---------------------------------------------------------------------------\u001b[0m",
      "\u001b[1;31mTypeError\u001b[0m                                 Traceback (most recent call last)",
      "\u001b[1;32m<ipython-input-2-72825c0456a2>\u001b[0m in \u001b[0;36m<module>\u001b[1;34m\u001b[0m\n\u001b[1;32m----> 1\u001b[1;33m \u001b[0mprint\u001b[0m\u001b[1;33m(\u001b[0m\u001b[1;34m\"당신의 조선시대 이름은 \"\u001b[0m \u001b[1;33m+\u001b[0m \u001b[0mget_my_chosun_name\u001b[0m\u001b[1;33m(\u001b[0m\u001b[1;34m'이'\u001b[0m\u001b[1;33m,\u001b[0m \u001b[1;36m7\u001b[0m\u001b[1;33m,\u001b[0m \u001b[1;36m23\u001b[0m\u001b[1;33m)\u001b[0m\u001b[1;33m)\u001b[0m\u001b[1;33m\u001b[0m\u001b[1;33m\u001b[0m\u001b[0m\n\u001b[0m",
      "\u001b[1;32m<ipython-input-1-c170ea1e3259>\u001b[0m in \u001b[0;36mget_my_chosun_name\u001b[1;34m(family_name, month, day)\u001b[0m\n\u001b[0;32m      3\u001b[0m     \u001b[0mday\u001b[0m \u001b[1;33m=\u001b[0m \u001b[1;33m[\u001b[0m\u001b[1;34m'봉'\u001b[0m\u001b[1;33m,\u001b[0m \u001b[1;34m'구'\u001b[0m\u001b[1;33m,\u001b[0m \u001b[1;34m'욕'\u001b[0m\u001b[1;33m,\u001b[0m \u001b[1;34m'포'\u001b[0m\u001b[1;33m,\u001b[0m \u001b[1;34m'똥'\u001b[0m\u001b[1;33m,\u001b[0m \u001b[1;34m'삼'\u001b[0m\u001b[1;33m,\u001b[0m \u001b[1;34m'식'\u001b[0m\u001b[1;33m,\u001b[0m \u001b[1;34m'석'\u001b[0m\u001b[1;33m,\u001b[0m \u001b[1;34m'놈'\u001b[0m\u001b[1;33m,\u001b[0m \u001b[1;34m'님'\u001b[0m\u001b[1;33m,\u001b[0m \u001b[1;34m'년'\u001b[0m\u001b[1;33m,\u001b[0m \u001b[1;34m'돌'\u001b[0m\u001b[1;33m,\u001b[0m \u001b[1;34m'단'\u001b[0m\u001b[1;33m,\u001b[0m \u001b[1;34m'득'\u001b[0m\u001b[1;33m,\u001b[0m \u001b[1;34m'방'\u001b[0m\u001b[1;33m,\u001b[0m \u001b[1;34m'질'\u001b[0m\u001b[1;33m,\u001b[0m \u001b[1;34m'장'\u001b[0m\u001b[1;33m,\u001b[0m \u001b[1;34m'걸'\u001b[0m\u001b[1;33m,\u001b[0m \u001b[1;34m'래'\u001b[0m\u001b[1;33m,\u001b[0m \u001b[1;34m'룡'\u001b[0m\u001b[1;33m,\u001b[0m \u001b[1;34m'동'\u001b[0m\u001b[1;33m,\u001b[0m \u001b[1;34m'순'\u001b[0m\u001b[1;33m,\u001b[0m \u001b[1;34m'자'\u001b[0m\u001b[1;33m,\u001b[0m \u001b[1;34m'박'\u001b[0m\u001b[1;33m,\u001b[0m \u001b[1;34m'창'\u001b[0m\u001b[1;33m,\u001b[0m \u001b[1;34m'언'\u001b[0m\u001b[1;33m,\u001b[0m \u001b[1;34m'것'\u001b[0m\u001b[1;33m,\u001b[0m \u001b[1;34m'포'\u001b[0m\u001b[1;33m,\u001b[0m \u001b[1;34m'만'\u001b[0m\u001b[1;33m,\u001b[0m \u001b[1;34m'단'\u001b[0m\u001b[1;33m,\u001b[0m \u001b[1;34m'국'\u001b[0m\u001b[1;33m]\u001b[0m\u001b[1;33m\u001b[0m\u001b[1;33m\u001b[0m\u001b[0m\n\u001b[0;32m      4\u001b[0m \u001b[1;33m\u001b[0m\u001b[0m\n\u001b[1;32m----> 5\u001b[1;33m     \u001b[1;32mreturn\u001b[0m \u001b[0mfamily_name\u001b[0m \u001b[1;33m+\u001b[0m \u001b[0mmonth\u001b[0m\u001b[1;33m[\u001b[0m\u001b[0mmonth\u001b[0m \u001b[1;33m-\u001b[0m \u001b[1;36m1\u001b[0m\u001b[1;33m]\u001b[0m \u001b[1;33m+\u001b[0m \u001b[0mday\u001b[0m\u001b[1;33m[\u001b[0m\u001b[0mday\u001b[0m\u001b[1;33m-\u001b[0m\u001b[1;36m1\u001b[0m\u001b[1;33m]\u001b[0m\u001b[1;33m\u001b[0m\u001b[1;33m\u001b[0m\u001b[0m\n\u001b[0m\u001b[0;32m      6\u001b[0m \u001b[1;33m\u001b[0m\u001b[0m\n",
      "\u001b[1;31mTypeError\u001b[0m: unsupported operand type(s) for -: 'list' and 'int'"
     ]
    }
   ],
   "source": [
    "print(\"당신의 조선시대 이름은 \" + get_my_chosun_name('이', 7, 23))"
   ]
  },
  {
   "cell_type": "code",
   "execution_count": null,
   "id": "37eeac67-bbd9-4567-8f76-3fe3d11738ed",
   "metadata": {},
   "outputs": [],
   "source": []
  }
 ],
 "metadata": {
  "kernelspec": {
   "display_name": "Python 3",
   "language": "python",
   "name": "python3"
  },
  "language_info": {
   "codemirror_mode": {
    "name": "ipython",
    "version": 3
   },
   "file_extension": ".py",
   "mimetype": "text/x-python",
   "name": "python",
   "nbconvert_exporter": "python",
   "pygments_lexer": "ipython3",
   "version": "3.8.8"
  }
 },
 "nbformat": 4,
 "nbformat_minor": 5
}

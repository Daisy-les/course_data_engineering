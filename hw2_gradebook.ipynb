{
 "cells": [
  {
   "cell_type": "code",
   "execution_count": 2,
   "id": "c7769888-c57f-440f-bbb1-147230c09d85",
   "metadata": {},
   "outputs": [
    {
     "name": "stdout",
     "output_type": "stream",
     "text": [
      "[['physics', 98], ['calculus', 97], ['poetry', 85], ['history', 88]]\n"
     ]
    }
   ],
   "source": [
    "subjects = [\"physics\",\"calculus\",\"poetry\",\"history\"]\n",
    "grades = [98,97,85,88]\n",
    "gradebook =[['physics',98],['calculus',97],['poetry',85],['history',88]] \n",
    "print(gradebook)"
   ]
  },
  {
   "cell_type": "code",
   "execution_count": 3,
   "id": "ec2cb508-907b-4b58-8079-bf7cb7e641c2",
   "metadata": {},
   "outputs": [],
   "source": [
    "gradebook.append(['computer science',100])\n",
    "gradebook.append(['visual arts',93])"
   ]
  },
  {
   "cell_type": "code",
   "execution_count": 4,
   "id": "c29fe929-d8a9-4628-aa89-a8bdc174d937",
   "metadata": {
    "tags": []
   },
   "outputs": [
    {
     "name": "stdout",
     "output_type": "stream",
     "text": [
      "[['physics', 98], ['calculus', 97], ['poetry', 85], ['history', 88], ['computer science', 100], ['visual arts', 98]]\n"
     ]
    }
   ],
   "source": [
    "gradebook[5][1] = 98\n",
    "print(gradebook)"
   ]
  },
  {
   "cell_type": "code",
   "execution_count": 5,
   "id": "0ce5598a-dc51-4743-8a42-9399c0343b4c",
   "metadata": {},
   "outputs": [
    {
     "name": "stdout",
     "output_type": "stream",
     "text": [
      "[['physics', 98], ['calculus', 97], ['poetry'], ['history', 88], ['computer science', 100], ['visual arts', 98]]\n"
     ]
    }
   ],
   "source": [
    "gradebook[2].remove(85)\n",
    "print(gradebook)"
   ]
  },
  {
   "cell_type": "code",
   "execution_count": 6,
   "id": "255464db-9680-40d3-8493-61ade6030774",
   "metadata": {},
   "outputs": [
    {
     "name": "stdout",
     "output_type": "stream",
     "text": [
      "[['physics', 98], ['calculus', 97], ['poetry', 'Pass'], ['history', 88], ['computer science', 100], ['visual arts', 98]]\n"
     ]
    }
   ],
   "source": [
    "gradebook[2].append('Pass')\n",
    "print(gradebook)"
   ]
  },
  {
   "cell_type": "code",
   "execution_count": 7,
   "id": "3a3a2a95-4aae-44f8-8281-eb035a430c95",
   "metadata": {},
   "outputs": [
    {
     "name": "stdout",
     "output_type": "stream",
     "text": [
      "[['politics', 80], ['latin', 96], ['dance', 97], ['architecture', 65], ['physics', 98], ['calculus', 97], ['poetry', 'Pass'], ['history', 88], ['computer science', 100], ['visual arts', 98]]\n"
     ]
    }
   ],
   "source": [
    "last_semester_gradebook = [[\"politics\", 80], [\"latin\", 96], [\"dance\", 97], [\"architecture\", 65]]\n",
    "full_gradebook = last_semester_gradebook + gradebook\n",
    "print(full_gradebook)"
   ]
  }
 ],
 "metadata": {
  "kernelspec": {
   "display_name": "Python 3",
   "language": "python",
   "name": "python3"
  },
  "language_info": {
   "codemirror_mode": {
    "name": "ipython",
    "version": 3
   },
   "file_extension": ".py",
   "mimetype": "text/x-python",
   "name": "python",
   "nbconvert_exporter": "python",
   "pygments_lexer": "ipython3",
   "version": "3.8.8"
  }
 },
 "nbformat": 4,
 "nbformat_minor": 5
}

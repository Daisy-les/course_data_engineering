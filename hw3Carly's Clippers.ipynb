{
 "cells": [
  {
   "cell_type": "code",
   "execution_count": 45,
   "id": "2b988f9a-2f60-4d47-aa56-6b1d918f3f2a",
   "metadata": {},
   "outputs": [],
   "source": [
    "import numpy as np"
   ]
  },
  {
   "cell_type": "code",
   "execution_count": 46,
   "id": "8032b689-202c-4469-bb2d-9d424d9e3a99",
   "metadata": {},
   "outputs": [],
   "source": [
    "hairstyles = [\"bouffant\", \"pixie\", \"dreadlocks\", \"crew\", \"bowl\", \"bob\", \"mohawk\", \"flattop\"]\n",
    "prices = [30, 25, 40, 20, 20, 35, 50, 35]\n",
    "last_week = [2, 3, 5, 8, 4, 4, 6, 2]\n"
   ]
  },
  {
   "cell_type": "code",
   "execution_count": 47,
   "id": "c438cf9c-af8a-451f-98c1-ad00cfdcce9e",
   "metadata": {},
   "outputs": [
    {
     "name": "stdout",
     "output_type": "stream",
     "text": [
      "Average price is 31.875\n"
     ]
    }
   ],
   "source": [
    "total_price = 0\n",
    "for i in range(8):\n",
    "    total_price += prices[i]\n",
    "    \n",
    "average_price = total_price / len(prices)\n",
    "print('Average price is',average_price)\n"
   ]
  },
  {
   "cell_type": "code",
   "execution_count": 48,
   "id": "fb138c4a-b33e-4478-ace6-348d9c1f2075",
   "metadata": {},
   "outputs": [
    {
     "name": "stdout",
     "output_type": "stream",
     "text": [
      "[25, 20, 35, 15, 15, 30, 45, 30]\n"
     ]
    }
   ],
   "source": [
    "new_prices = [prices - 5 for prices in prices ]\n",
    "print(new_prices)\n"
   ]
  },
  {
   "cell_type": "code",
   "execution_count": 49,
   "id": "9b141c5e-da40-429f-b149-30dff44c8d82",
   "metadata": {},
   "outputs": [
    {
     "name": "stdout",
     "output_type": "stream",
     "text": [
      "1085\n"
     ]
    }
   ],
   "source": [
    "total_revenue = 0\n",
    "for i in range(0,len(hairstyles)):\n",
    "    total_revenue += prices[i]*last_week[i]\n",
    "print(total_revenue)\n"
   ]
  },
  {
   "cell_type": "code",
   "execution_count": 50,
   "id": "6c5f4a24-270e-41bb-8f67-cd862b6fa27d",
   "metadata": {},
   "outputs": [
    {
     "name": "stdout",
     "output_type": "stream",
     "text": [
      "Average daily revenue is  155.0\n"
     ]
    }
   ],
   "source": [
    "average_daily_revenue = total_revenue / 7\n",
    "print(\"Average daily revenue is \", average_daily_revenue)\n"
   ]
  },
  {
   "cell_type": "code",
   "execution_count": 51,
   "id": "4d6adea9-0aa6-4ba4-9b5c-ce439d02a828",
   "metadata": {},
   "outputs": [
    {
     "name": "stdout",
     "output_type": "stream",
     "text": [
      "['bouffant', 'pixie', 'crew', 'bowl']\n"
     ]
    }
   ],
   "source": [
    "cuts_under_30 = [hairstyles[i]for i in range(0,len(new_prices)-1) if new_prices[i] < 30 ]\n",
    "print(cuts_under_30) \n"
   ]
  }
 ],
 "metadata": {
  "kernelspec": {
   "display_name": "Python 3",
   "language": "python",
   "name": "python3"
  },
  "language_info": {
   "codemirror_mode": {
    "name": "ipython",
    "version": 3
   },
   "file_extension": ".py",
   "mimetype": "text/x-python",
   "name": "python",
   "nbconvert_exporter": "python",
   "pygments_lexer": "ipython3",
   "version": "3.8.8"
  }
 },
 "nbformat": 4,
 "nbformat_minor": 5
}
